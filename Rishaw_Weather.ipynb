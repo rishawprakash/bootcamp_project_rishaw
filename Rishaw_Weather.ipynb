{
  "nbformat": 4,
  "nbformat_minor": 0,
  "metadata": {
    "colab": {
      "name": "Rishaw_Weather.ipynb",
      "provenance": [],
      "collapsed_sections": []
    },
    "kernelspec": {
      "name": "python3",
      "display_name": "Python 3"
    },
    "language_info": {
      "name": "python"
    }
  },
  "cells": [
    {
      "cell_type": "code",
      "metadata": {
        "colab": {
          "base_uri": "https://localhost:8080/"
        },
        "id": "G9qobYLKR2nn",
        "outputId": "f632f284-a8fa-4672-bb22-9d051928a96e"
      },
      "source": [
        "import requests\n",
        "#import os\n",
        "from datetime import datetime\n",
        "\n",
        "api_key = '87d845b0b6cf29baa1a73cc34b067a95'\n",
        "location = input(\"Enter the city name: \")\n",
        "\n",
        "complete_api_link = \"https://api.openweathermap.org/data/2.5/weather?q=\"+location+\"&appid=\"+api_key\n",
        "api_link = requests.get(complete_api_link)\n",
        "api_data = api_link.json()\n",
        "\n",
        "#create variables to store and display data\n",
        "temp_city = ((api_data['main']['temp']) - 273.15)\n",
        "weather_desc = api_data['weather'][0]['description']\n",
        "hmdt = api_data['main']['humidity']\n",
        "wind_spd = api_data['wind']['speed']\n",
        "date_time = datetime.now().strftime(\"%d %b %Y | %I:%M:%S %p\")\n",
        "\n",
        "print (\"-------------------------------------------------------------\")\n",
        "print (\"Weather Stats for - {}  || {}\".format(location.upper(), date_time))\n",
        "print (\"-------------------------------------------------------------\")\n",
        "\n",
        "print (\"Current temperature is: {:.2f} deg C\".format(temp_city))\n",
        "print (\"Current weather desc  :\",weather_desc)\n",
        "print (\"Current Humidity      :\",hmdt, '%')\n",
        "print (\"Current wind speed    :\",wind_spd ,'kmph')"
      ],
      "execution_count": 5,
      "outputs": [
        {
          "output_type": "stream",
          "text": [
            "Enter the city name: delhi\n",
            "-------------------------------------------------------------\n",
            "Weather Stats for - DELHI  || 23 Jun 2021 | 02:00:35 PM\n",
            "-------------------------------------------------------------\n",
            "Current temperature is: 38.05 deg C\n",
            "Current weather desc  : haze\n",
            "Current Humidity      : 30 %\n",
            "Current wind speed    : 2.06 kmph\n"
          ],
          "name": "stdout"
        }
      ]
    },
    {
      "cell_type": "code",
      "metadata": {
        "id": "WW-TPR5aMKxv"
      },
      "source": [
        "#FOR STORING OUTPUT IN TEXT FILE = SUCESSFUL RUN\n",
        "x=open(\"weather.txt\",'w')\n",
        "print(\"-------------------------------------------------------------\",file=x)\n",
        "print (\"Weather Stats for - {}  || {}\".format(location.upper(), date_time),file=x)\n",
        "print (\"-------------------------------------------------------------\",file=x)\n",
        "print (\"Current temperature is: {:.2f} deg C\".format(temp_city),file=x)\n",
        "print (\"Current weather desc  :\",weather_desc,file=x)\n",
        "print (\"Current Humidity      :\",hmdt, '%',file=x)\n",
        "print (\"Current wind speed    :\",wind_spd ,'kmph', file=x)"
      ],
      "execution_count": 35,
      "outputs": []
    }
  ]
}